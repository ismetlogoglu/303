{
  "nbformat": 4,
  "nbformat_minor": 0,
  "metadata": {
    "colab": {
      "provenance": []
    },
    "kernelspec": {
      "name": "python3",
      "display_name": "Python 3"
    },
    "language_info": {
      "name": "python"
    }
  },
  "cells": [
    {
      "cell_type": "code",
      "source": [
        "# Read data from a text file\n",
        "with open('data3.txt', 'r') as file:\n",
        "    data3 = [float(line.strip()) for line in file]"
      ],
      "metadata": {
        "id": "Z5ICeZ_jrjBZ"
      },
      "execution_count": 15,
      "outputs": []
    },
    {
      "cell_type": "code",
      "source": [
        "# Read data from a text file\n",
        "with open('data1.txt', 'r') as file:\n",
        "    data1 = [float(line.strip()) for line in file]"
      ],
      "metadata": {
        "id": "o7oITmNE8uTn"
      },
      "execution_count": 16,
      "outputs": []
    },
    {
      "cell_type": "code",
      "source": [
        "# Read data from a text file\n",
        "with open('data2.txt', 'r') as file:\n",
        "    data2 = [float(line.strip()) for line in file]"
      ],
      "metadata": {
        "id": "cGc0FB0jCadZ"
      },
      "execution_count": 24,
      "outputs": []
    },
    {
      "cell_type": "code",
      "source": [
        "from IPython.display import display, Math\n",
        "\n",
        "# MME Formulations\n",
        "display(Math(r'\\text{MME for } \\alpha: \\hat{\\alpha}_{MME} = \\frac{\\bar{x}^2}{s^2}'))\n",
        "display(Math(r'\\text{MME for } \\beta: \\hat{\\beta}_{MME} = \\frac{s^2}{\\bar{x}}'))\n",
        "\n",
        "# MLE Formulations\n",
        "display(Math(r'\\text{MLE for } \\beta: \\hat{\\beta}_{MLE} = \\frac{\\sum_{i=1}^{n} X_i}{n\\hat{\\alpha}}'))\n",
        "\n",
        "\n",
        "\n",
        "display(Math(r'\\text{Note: MLE for } \\alpha \\text{ requires numerical methods}'))"
      ],
      "metadata": {
        "colab": {
          "base_uri": "https://localhost:8080/",
          "height": 150
        },
        "id": "bR6AmZ31re6G",
        "outputId": "db41492c-a640-4929-fc8f-aa0f84119d15"
      },
      "execution_count": 7,
      "outputs": [
        {
          "output_type": "display_data",
          "data": {
            "text/plain": [
              "<IPython.core.display.Math object>"
            ],
            "text/latex": "$\\displaystyle \\text{MME for } \\alpha: \\hat{\\alpha}_{MME} = \\frac{\\bar{x}^2}{s^2}$"
          },
          "metadata": {}
        },
        {
          "output_type": "display_data",
          "data": {
            "text/plain": [
              "<IPython.core.display.Math object>"
            ],
            "text/latex": "$\\displaystyle \\text{MME for } \\beta: \\hat{\\beta}_{MME} = \\frac{s^2}{\\bar{x}}$"
          },
          "metadata": {}
        },
        {
          "output_type": "display_data",
          "data": {
            "text/plain": [
              "<IPython.core.display.Math object>"
            ],
            "text/latex": "$\\displaystyle \\text{MLE for } \\beta: \\hat{\\beta}_{MLE} = \\frac{\\sum_{i=1}^{n} X_i}{n\\hat{\\alpha}}$"
          },
          "metadata": {}
        },
        {
          "output_type": "display_data",
          "data": {
            "text/plain": [
              "<IPython.core.display.Math object>"
            ],
            "text/latex": "$\\displaystyle \\text{Note: MLE for } \\alpha \\text{ requires numerical methods}$"
          },
          "metadata": {}
        }
      ]
    },
    {
      "cell_type": "code",
      "source": [
        "import numpy as np\n",
        "\n",
        "# Example sample data (replace with your actual data)\n",
        "np.random.seed(0)\n",
        "sample_data = np.random.exponential(scale=1/0.257, size=100)\n",
        "\n",
        "# Calculate sample mean\n",
        "sample_mean = np.mean(sample_data)\n",
        "\n",
        "# UMVU estimator for lambda\n",
        "lambda_umvu = 1 / sample_mean\n",
        "\n",
        "# CRLB for variance\n",
        "n = 100\n",
        "crlb_variance = lambda_umvu**2 / n\n",
        "\n",
        "print(\"Sample Mean:\", sample_mean)\n",
        "print(\"UMVU Estimator for Lambda:\", lambda_umvu)\n",
        "print(\"CRLB Variance:\", crlb_variance)"
      ],
      "metadata": {
        "id": "saKS-Jhlrhir",
        "colab": {
          "base_uri": "https://localhost:8080/"
        },
        "outputId": "8463ec8e-6722-4d36-a7b7-fa949dd9b0dd"
      },
      "execution_count": 10,
      "outputs": [
        {
          "output_type": "stream",
          "name": "stdout",
          "text": [
            "Sample Mean: 3.574507444153727\n",
            "UMVU Estimator for Lambda: 0.2797588242921543\n",
            "CRLB Variance: 0.0007826499976932848\n"
          ]
        }
      ]
    },
    {
      "cell_type": "code",
      "source": [
        "import numpy as np\n",
        "import pandas as pd\n",
        "\n",
        "# Assuming data2 is a DataFrame with a column \"X_i\"\n",
        "# Replace this with your actual data loading method\n",
        "data2 = pd.DataFrame({'X_i': np.random.normal(loc=1.868, scale=np.sqrt(3.121), size=1000)})\n",
        "\n",
        "# Take a random sample\n",
        "random_sample2 = data2[\"X_i\"].sample(100, replace=False, random_state=1982)\n",
        "\n",
        "# Calculate sample mean (UMVU for mu)\n",
        "mu_hat_umvu = 1.868\n",
        "print(\"UMVU Estimator for Mu:\", mu_hat_umvu)\n",
        "\n",
        "# Calculate sample variance (UMVU for sigma^2)\n",
        "sigma2_hat_umvu = np.var(random_sample2, ddof=1)\n",
        "print(\"UMVU Estimator for Sigma^2:\", sigma2_hat_umvu)"
      ],
      "metadata": {
        "colab": {
          "base_uri": "https://localhost:8080/"
        },
        "id": "yC-_GO32Cg58",
        "outputId": "e478511f-f7f0-4ba7-f364-aa67f4ac3501"
      },
      "execution_count": 29,
      "outputs": [
        {
          "output_type": "stream",
          "name": "stdout",
          "text": [
            "UMVU Estimator for Mu: 1.868\n",
            "UMVU Estimator for Sigma^2: 2.8328934630983937\n"
          ]
        }
      ]
    },
    {
      "cell_type": "code",
      "source": [
        "import numpy as np\n",
        "\n",
        "sample_mean = 0.256942139693\n",
        "\n",
        "# UMVU estimator for lambda\n",
        "lambda_umvu = 1 / sample_mean\n",
        "\n",
        "# CRLB for variance\n",
        "n = 100\n",
        "crlb_variance = lambda_umvu**2 / n\n",
        "\n",
        "print(\"Sample Mean:\", sample_mean)\n",
        "print(\"UMVU Estimator for Lambda:\", lambda_umvu)\n",
        "print(\"CRLB Variance:\", crlb_variance)"
      ],
      "metadata": {
        "colab": {
          "base_uri": "https://localhost:8080/"
        },
        "id": "lv459a808mar",
        "outputId": "939c36a5-16ce-4f94-aa70-f897aab1112c"
      },
      "execution_count": 23,
      "outputs": [
        {
          "output_type": "stream",
          "name": "stdout",
          "text": [
            "Sample Mean: 0.256942139693\n",
            "UMVU Estimator for Lambda: 3.8919268018660604\n",
            "CRLB Variance: 0.1514709423108338\n"
          ]
        }
      ]
    },
    {
      "cell_type": "code",
      "source": [
        "import numpy as np\n",
        "from scipy.stats import chi2\n",
        "\n",
        "\n",
        "sample_mean1 = 0.256942139693\n",
        "\n",
        "# Degrees of freedom\n",
        "df = 2 * 100\n",
        "\n",
        "# Confidence level\n",
        "alpha = 0.05\n",
        "\n",
        "# Chi-squared quantiles\n",
        "chi2_lower = chi2.ppf(alpha/2, df)\n",
        "chi2_upper = chi2.ppf(1 - alpha/2, df)\n",
        "\n",
        "# Confidence interval for lambda\n",
        "lambda_lower = chi2_lower / (2 * 100 * sample_mean1)\n",
        "lambda_upper = chi2_upper / (2 * 100 * sample_mean1)\n",
        "\n",
        "print(\"Confidence Interval for Lambda:\", (lambda_lower, lambda_upper))"
      ],
      "metadata": {
        "colab": {
          "base_uri": "https://localhost:8080/"
        },
        "id": "QG2aTd7CMJNp",
        "outputId": "f9037f7a-1189-4155-ecfb-8f38b94f6ed8"
      },
      "execution_count": 32,
      "outputs": [
        {
          "output_type": "stream",
          "name": "stdout",
          "text": [
            "Confidence Interval for Lambda: (3.166626982562634, 4.690898421612198)\n"
          ]
        }
      ]
    },
    {
      "cell_type": "code",
      "source": [
        "print(\"Confidence Interval for Data2\")"
      ],
      "metadata": {
        "colab": {
          "base_uri": "https://localhost:8080/"
        },
        "id": "ufVu6amNUdgQ",
        "outputId": "61ff2389-9694-4d40-b394-bee95ef944bf"
      },
      "execution_count": 38,
      "outputs": [
        {
          "output_type": "stream",
          "name": "stdout",
          "text": [
            "Confidence Interval for Data2\n"
          ]
        }
      ]
    },
    {
      "cell_type": "code",
      "source": [
        "import numpy as np\n",
        "from scipy.stats import norm\n",
        "\n",
        "\n",
        "sample_mean2 = 1.8682239409500008\n",
        "sample_std2 = 3.12142780687655\n",
        "\n",
        "# Confidence level\n",
        "alpha = 0.05\n",
        "z_alpha = norm.ppf(1 - alpha/2)\n",
        "\n",
        "# Confidence interval for mu\n",
        "mu_lower = sample_mean2 - z_alpha * (sample_std2 / np.sqrt(100))\n",
        "mu_upper = sample_mean2 + z_alpha * (sample_std2 / np.sqrt(100))\n",
        "\n",
        "print(\"Confidence Interval for Mu:\", (mu_lower, mu_upper))"
      ],
      "metadata": {
        "colab": {
          "base_uri": "https://localhost:8080/"
        },
        "id": "1GcGkoyjTC9D",
        "outputId": "ed4b345f-6982-4d84-84bd-11c4502896e2"
      },
      "execution_count": 33,
      "outputs": [
        {
          "output_type": "stream",
          "name": "stdout",
          "text": [
            "Confidence Interval for Mu: (1.2564353327680122, 2.480012549131989)\n"
          ]
        }
      ]
    },
    {
      "cell_type": "code",
      "source": [
        "from scipy.stats import chi2\n",
        "\n",
        "# Degrees of freedom\n",
        "df = 100 - 1\n",
        "\n",
        "# Chi-squared quantiles\n",
        "chi2_lower = chi2.ppf(alpha/2, df)\n",
        "chi2_upper = chi2.ppf(1 - alpha/2, df)\n",
        "\n",
        "# Confidence interval for sigma^2\n",
        "sigma2_lower = (df * sample_std2**2) / chi2_upper\n",
        "sigma2_upper = (df * sample_std2**2) / chi2_lower\n",
        "\n",
        "print(\"Confidence Interval for Sigma^2:\", (sigma2_lower, sigma2_upper))"
      ],
      "metadata": {
        "colab": {
          "base_uri": "https://localhost:8080/"
        },
        "id": "OPJ3Pj0bUfCF",
        "outputId": "66de5e1b-65b7-495f-acd0-5efd34394482"
      },
      "execution_count": 34,
      "outputs": [
        {
          "output_type": "stream",
          "name": "stdout",
          "text": [
            "Confidence Interval for Sigma^2: (7.511080103858356, 13.148495650358203)\n"
          ]
        }
      ]
    },
    {
      "cell_type": "code",
      "source": [
        "from IPython.display import display, Math\n",
        "import numpy as np\n",
        "from scipy.stats import gamma, norm\n",
        "from scipy.optimize import minimize\n",
        "\n",
        "# Sample data\n",
        "np.random.seed(0)\n",
        "sample_data3 = np.random.gamma(shape=0.929, scale=1/5.479, size=100)\n",
        "\n",
        "# Negative log likelihood function\n",
        "def negative_log_likelihood(params):\n",
        "    alpha, beta = params\n",
        "    return -np.sum(gamma.logpdf(sample_data3, a=alpha, scale=1/beta))\n",
        "\n",
        "# Initial guess\n",
        "initial_guess = [0.929, 5.479]\n",
        "\n",
        "# Minimize negative log likelihood\n",
        "result = minimize(negative_log_likelihood, initial_guess, bounds=[(0.001, None), (0.001, None)])\n",
        "alpha_mle, beta_mle = result.x\n",
        "\n",
        "# Display MLEs\n",
        "display(Math(r'\\hat{{\\alpha}}_{{MLE}} = {:.3f}'.format(alpha_mle)))\n",
        "display(Math(r'\\hat{{\\beta}}_{{MLE}} = {:.3f}'.format(beta_mle)))\n",
        "\n",
        "# Approximate standard errors\n",
        "n = len(sample_data3)\n",
        "alpha_se = np.sqrt(alpha_mle / n)\n",
        "beta_se = np.sqrt(beta_mle / n)\n",
        "\n",
        "# Display standard errors\n",
        "display(Math(r'\\text{{SE}}(\\hat{{\\alpha}}) = \\sqrt{{\\frac{{\\hat{{\\alpha}}}}{{n}}}} = {:.3f}'.format(alpha_se)))\n",
        "display(Math(r'\\text{{SE}}(\\hat{{\\beta}}) = \\sqrt{{\\frac{{\\hat{{\\beta}}}}{{n}}}} = {:.3f}'.format(beta_se)))\n",
        "\n",
        "# Confidence level\n",
        "alpha = 0.05\n",
        "z_alpha = norm.ppf(1 - alpha/2)\n",
        "\n",
        "# Confidence interval for alpha\n",
        "alpha_lower = alpha_mle - z_alpha * alpha_se\n",
        "alpha_upper = alpha_mle + z_alpha * alpha_se\n",
        "\n",
        "# Confidence interval for beta\n",
        "beta_lower = beta_mle - z_alpha * beta_se\n",
        "beta_upper = beta_mle + z_alpha * beta_se\n",
        "\n",
        "# Display confidence intervals\n",
        "display(Math(r'\\text{{CI for }} \\alpha: ({:.3f}, {:.3f})'.format(alpha_lower, alpha_upper)))\n",
        "display(Math(r'\\text{{CI for }} \\beta: ({:.3f}, {:.3f})'.format(beta_lower, beta_upper)))"
      ],
      "metadata": {
        "colab": {
          "base_uri": "https://localhost:8080/",
          "height": 195
        },
        "id": "-Z8AzYYZWB9Y",
        "outputId": "84891340-33bf-481c-bce1-8a6f0048a799"
      },
      "execution_count": 37,
      "outputs": [
        {
          "output_type": "display_data",
          "data": {
            "text/plain": [
              "<IPython.core.display.Math object>"
            ],
            "text/latex": "$\\displaystyle \\hat{\\alpha}_{MLE} = 0.970$"
          },
          "metadata": {}
        },
        {
          "output_type": "display_data",
          "data": {
            "text/plain": [
              "<IPython.core.display.Math object>"
            ],
            "text/latex": "$\\displaystyle \\hat{\\beta}_{MLE} = 5.793$"
          },
          "metadata": {}
        },
        {
          "output_type": "display_data",
          "data": {
            "text/plain": [
              "<IPython.core.display.Math object>"
            ],
            "text/latex": "$\\displaystyle \\text{SE}(\\hat{\\alpha}) = \\sqrt{\\frac{\\hat{\\alpha}}{n}} = 0.099$"
          },
          "metadata": {}
        },
        {
          "output_type": "display_data",
          "data": {
            "text/plain": [
              "<IPython.core.display.Math object>"
            ],
            "text/latex": "$\\displaystyle \\text{SE}(\\hat{\\beta}) = \\sqrt{\\frac{\\hat{\\beta}}{n}} = 0.241$"
          },
          "metadata": {}
        },
        {
          "output_type": "display_data",
          "data": {
            "text/plain": [
              "<IPython.core.display.Math object>"
            ],
            "text/latex": "$\\displaystyle \\text{CI for } \\alpha: (0.777, 1.163)$"
          },
          "metadata": {}
        },
        {
          "output_type": "display_data",
          "data": {
            "text/plain": [
              "<IPython.core.display.Math object>"
            ],
            "text/latex": "$\\displaystyle \\text{CI for } \\beta: (5.321, 6.265)$"
          },
          "metadata": {}
        }
      ]
    }
  ]
}